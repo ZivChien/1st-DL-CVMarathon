{
 "cells": [
  {
   "cell_type": "markdown",
   "metadata": {},
   "source": [
    "# 作業\n",
    "\n",
    "實作模糊與邊緣檢測\n",
    "\n",
    "- 透過 Gaussian Filter 實作模糊操作\n",
    "- 透過 Sobel Filter 實作邊緣檢測"
   ]
  },
  {
   "cell_type": "code",
   "execution_count": 1,
   "metadata": {},
   "outputs": [],
   "source": [
    "import cv2\n",
    "import numpy as np\n",
    "\n",
    "img = cv2.imread('data/lena.png')"
   ]
  },
  {
   "cell_type": "markdown",
   "metadata": {},
   "source": [
    "## 邊緣檢測"
   ]
  },
  {
   "cell_type": "markdown",
   "metadata": {},
   "source": [
    "### 比較 Sobel 如果在 uint8 的情況下做會 overflow 的狀況"
   ]
  },
  {
   "cell_type": "code",
   "execution_count": 2,
   "metadata": {},
   "outputs": [],
   "source": [
    "# 轉為灰階圖片\n",
    "img_grey = cv2.cvtColor(img, cv2.COLOR_BGR2GRAY)"
   ]
  },
  {
   "cell_type": "code",
   "execution_count": 3,
   "metadata": {},
   "outputs": [],
   "source": [
    "# 對 x 方向以包含負數的資料格式 (cv2.CV_16S) 進行 Sobel 邊緣檢測\n",
    "img_sobel_x = cv2.Sobel(img_grey, cv2.CV_16S, dx=1, dy=0, ksize=3)\n",
    "\n",
    "# 對 x 方向依照比例縮放到所有數值都是非負整數\n",
    "img_sobel_x = cv2.convertScaleAbs(img_sobel_x)\n",
    "\n",
    "# 對 x 方向直接以非負整數的資料格式 (uint8) 進行 Sobel 邊緣檢測\n",
    "img_sobel_x_uint8 = cv2.Sobel(img_grey, cv2.CV_8U, dx=1, dy=0, ksize=3)"
   ]
  },
  {
   "cell_type": "code",
   "execution_count": 4,
   "metadata": {},
   "outputs": [],
   "source": [
    "#　組合 + 顯示圖片\n",
    "img_show = np.hstack((img_grey, img_sobel_x, img_sobel_x_uint8))\n",
    "while True:\n",
    "    # 比較 Sobel 邊緣檢測的過程中針對負數操作的不同產生的差異\n",
    "    cv2.imshow('Edge Detection', img_show)\n",
    "    k = cv2.waitKey(0)\n",
    "    if k == 27:\n",
    "        cv2.destroyAllWindows()\n",
    "        break"
   ]
  },
  {
   "cell_type": "markdown",
   "metadata": {},
   "source": [
    "### 比較一次與兩次計算偏微分的結果"
   ]
  },
  {
   "cell_type": "code",
   "execution_count": 5,
   "metadata": {},
   "outputs": [],
   "source": [
    "img_grey = cv2.cvtColor(img, cv2.COLOR_BGR2GRAY)"
   ]
  },
  {
   "cell_type": "code",
   "execution_count": 6,
   "metadata": {},
   "outputs": [],
   "source": [
    "# 求一次導數取得邊緣檢測結果\n",
    "img_sobel_x = cv2.Sobel(img_grey, cv2.CV_16S, dx=1, dy=0, ksize=3)\n",
    "img_sobel_x = cv2.convertScaleAbs(img_sobel_x)\n",
    "\n",
    "# 求二次導數取得邊緣檢測結果\n",
    "img_sobel_xx = cv2.Sobel(img_grey, cv2.CV_16S, dx=2, dy=0, ksize=3)\n",
    "img_sobel_xx = cv2.convertScaleAbs(img_sobel_xx)"
   ]
  },
  {
   "cell_type": "code",
   "execution_count": 7,
   "metadata": {},
   "outputs": [],
   "source": [
    "#　組合 + 顯示圖片\n",
    "img_show = np.hstack((img_grey, img_sobel_x, img_sobel_xx))\n",
    "while True:\n",
    "    cv2.imshow('Edge Detection', img_show)\n",
    "    k = cv2.waitKey(0)\n",
    "    if k == 27:\n",
    "        cv2.destroyAllWindows()\n",
    "        break"
   ]
  },
  {
   "cell_type": "code",
   "execution_count": null,
   "metadata": {},
   "outputs": [],
   "source": []
  }
 ],
 "metadata": {
  "kernelspec": {
   "display_name": "Python 3",
   "language": "python",
   "name": "python3"
  },
  "language_info": {
   "codemirror_mode": {
    "name": "ipython",
    "version": 3
   },
   "file_extension": ".py",
   "mimetype": "text/x-python",
   "name": "python",
   "nbconvert_exporter": "python",
   "pygments_lexer": "ipython3",
   "version": "3.7.3"
  }
 },
 "nbformat": 4,
 "nbformat_minor": 2
}
