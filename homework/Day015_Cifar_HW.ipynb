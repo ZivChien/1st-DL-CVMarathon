{
 "cells": [
  {
   "cell_type": "markdown",
   "metadata": {},
   "source": [
    "## 『本次練習內容』\n",
    "#### 運用這幾天所學觀念搭建一個CNN分類器"
   ]
  },
  {
   "cell_type": "markdown",
   "metadata": {},
   "source": [
    "## 『本次練習目的』\n",
    "  #### 熟悉CNN分類器搭建步驟與原理\n",
    "  #### 學員們可以嘗試不同搭法，如使用不同的Maxpooling層，用GlobalAveragePooling取代Flatten等等"
   ]
  },
  {
   "cell_type": "code",
   "execution_count": 1,
   "metadata": {},
   "outputs": [
    {
     "name": "stderr",
     "output_type": "stream",
     "text": [
      "Using TensorFlow backend.\n"
     ]
    }
   ],
   "source": [
    "from keras.models import Sequential\n",
    "from keras.layers import Convolution2D\n",
    "from keras.layers import MaxPooling2D\n",
    "from keras.layers import Flatten\n",
    "from keras.layers import Dense\n",
    "from keras.layers import Dropout\n",
    "from keras.layers import BatchNormalization\n",
    "from keras.datasets import cifar10\n",
    "import numpy as np\n",
    "import tensorflow as tf\n",
    "from sklearn.preprocessing import OneHotEncoder"
   ]
  },
  {
   "cell_type": "code",
   "execution_count": 2,
   "metadata": {},
   "outputs": [],
   "source": [
    "import os\n",
    "os.environ[\"CUDA_VISIBLE_DEVICES\"] = \"0\""
   ]
  },
  {
   "cell_type": "code",
   "execution_count": 3,
   "metadata": {},
   "outputs": [
    {
     "name": "stdout",
     "output_type": "stream",
     "text": [
      "(50000, 32, 32, 3)\n"
     ]
    }
   ],
   "source": [
    "(x_train, y_train), (x_test, y_test) = cifar10.load_data()\n",
    "\n",
    "print(x_train.shape) #(50000, 32, 32, 3)"
   ]
  },
  {
   "cell_type": "code",
   "execution_count": 4,
   "metadata": {},
   "outputs": [],
   "source": [
    "## Normalize Data\n",
    "def normalize(X_train,X_test):\n",
    "        mean = np.mean(X_train,axis=(0,1,2,3))\n",
    "        std = np.std(X_train, axis=(0, 1, 2, 3))\n",
    "        X_train = (X_train-mean)/(std+1e-7)\n",
    "        X_test = (X_test-mean)/(std+1e-7) \n",
    "        return X_train, X_test,mean,std"
   ]
  },
  {
   "cell_type": "code",
   "execution_count": 5,
   "metadata": {},
   "outputs": [],
   "source": [
    "## Normalize Training and Testset    \n",
    "x_train, x_test, mean_train, std_train = normalize(x_train, x_test) "
   ]
  },
  {
   "cell_type": "code",
   "execution_count": 6,
   "metadata": {},
   "outputs": [
    {
     "name": "stderr",
     "output_type": "stream",
     "text": [
      "/home/ziv/anaconda3/lib/python3.7/site-packages/sklearn/preprocessing/_encoders.py:415: FutureWarning: The handling of integer data will change in version 0.22. Currently, the categories are determined based on the range [0, max(values)], while in the future they will be determined based on the unique values.\n",
      "If you want the future behaviour and silence this warning, you can specify \"categories='auto'\".\n",
      "In case you used a LabelEncoder before this OneHotEncoder to convert the categories to integers, then you can now use the OneHotEncoder directly.\n",
      "  warnings.warn(msg, FutureWarning)\n"
     ]
    }
   ],
   "source": [
    "## OneHot Label 由(None, 1)-(None, 10)\n",
    "## ex. label=2,變成[0,0,1,0,0,0,0,0,0,0]\n",
    "one_hot=OneHotEncoder()\n",
    "y_train=one_hot.fit_transform(y_train).toarray()\n",
    "y_test=one_hot.transform(y_test).toarray()"
   ]
  },
  {
   "cell_type": "code",
   "execution_count": 7,
   "metadata": {},
   "outputs": [],
   "source": [
    "classifier=Sequential()\n",
    "\n",
    "filters = 32\n",
    "kernel_size = (3, 3)"
   ]
  },
  {
   "cell_type": "code",
   "execution_count": 8,
   "metadata": {},
   "outputs": [],
   "source": [
    "#卷積組合\n",
    "#32,3,3,input_shape=(32,32,3),activation='relu''\n",
    "classifier.add(Convolution2D(filters = filters, kernel_size = kernel_size, activation = 'relu', padding = 'same', input_shape = (32, 32, 3)))\n",
    "classifier.add(BatchNormalization())"
   ]
  },
  {
   "cell_type": "code",
   "execution_count": 9,
   "metadata": {},
   "outputs": [],
   "source": [
    "'''自己決定MaxPooling2D放在哪裡'''\n",
    "#classifier.add(MaxPooling2D(pool_size=(2,2)))\n",
    "#卷積組合\n",
    "classifier.add(Convolution2D(filters = filters, kernel_size = kernel_size, activation = 'relu', padding = 'same'))\n",
    "classifier.add(BatchNormalization())\n",
    "classifier.add(MaxPooling2D(pool_size=(2,2)))"
   ]
  },
  {
   "cell_type": "code",
   "execution_count": 10,
   "metadata": {},
   "outputs": [
    {
     "name": "stderr",
     "output_type": "stream",
     "text": [
      "/home/ziv/anaconda3/lib/python3.7/site-packages/ipykernel_launcher.py:6: UserWarning: Update your `Dense` call to the Keras 2 API: `Dense(activation=\"relu\", units=100)`\n",
      "  \n"
     ]
    }
   ],
   "source": [
    "#flatten\n",
    "classifier.add(Flatten())\n",
    "\n",
    "#FC\n",
    "#output_dim=100,activation=relu\n",
    "classifier.add(Dense(output_dim=100, activation='relu')) "
   ]
  },
  {
   "cell_type": "code",
   "execution_count": 11,
   "metadata": {},
   "outputs": [
    {
     "name": "stderr",
     "output_type": "stream",
     "text": [
      "/home/ziv/anaconda3/lib/python3.7/site-packages/ipykernel_launcher.py:2: UserWarning: Update your `Dense` call to the Keras 2 API: `Dense(activation=\"softmax\", units=10)`\n",
      "  \n"
     ]
    }
   ],
   "source": [
    "#輸出\n",
    "classifier.add(Dense(output_dim=10,activation='softmax'))"
   ]
  },
  {
   "cell_type": "code",
   "execution_count": 12,
   "metadata": {
    "scrolled": true
   },
   "outputs": [
    {
     "name": "stdout",
     "output_type": "stream",
     "text": [
      "Epoch 1/100\n",
      "50000/50000 [==============================] - 13s 254us/step - loss: 1.3829 - accuracy: 0.5126\n",
      "Epoch 2/100\n",
      "50000/50000 [==============================] - 10s 210us/step - loss: 0.9512 - accuracy: 0.6642\n",
      "Epoch 3/100\n",
      "50000/50000 [==============================] - 10s 209us/step - loss: 0.7891 - accuracy: 0.7208\n",
      "Epoch 4/100\n",
      "50000/50000 [==============================] - 11s 214us/step - loss: 0.6591 - accuracy: 0.7681\n",
      "Epoch 5/100\n",
      "50000/50000 [==============================] - 11s 212us/step - loss: 0.5352 - accuracy: 0.8129\n",
      "Epoch 6/100\n",
      "50000/50000 [==============================] - 10s 210us/step - loss: 0.4242 - accuracy: 0.8517\n",
      "Epoch 7/100\n",
      "50000/50000 [==============================] - 11s 211us/step - loss: 0.3186 - accuracy: 0.8898\n",
      "Epoch 8/100\n",
      "50000/50000 [==============================] - 11s 211us/step - loss: 0.2393 - accuracy: 0.9171\n",
      "Epoch 9/100\n",
      "50000/50000 [==============================] - 11s 213us/step - loss: 0.1796 - accuracy: 0.9374\n",
      "Epoch 10/100\n",
      "50000/50000 [==============================] - 11s 212us/step - loss: 0.1461 - accuracy: 0.9500\n",
      "Epoch 11/100\n",
      "50000/50000 [==============================] - 11s 212us/step - loss: 0.1236 - accuracy: 0.9571\n",
      "Epoch 12/100\n",
      "50000/50000 [==============================] - 11s 212us/step - loss: 0.1026 - accuracy: 0.9645\n",
      "Epoch 13/100\n",
      "50000/50000 [==============================] - 11s 213us/step - loss: 0.1010 - accuracy: 0.9642\n",
      "Epoch 14/100\n",
      "50000/50000 [==============================] - 11s 212us/step - loss: 0.0953 - accuracy: 0.9674\n",
      "Epoch 15/100\n",
      "50000/50000 [==============================] - 11s 212us/step - loss: 0.0637 - accuracy: 0.9781\n",
      "Epoch 16/100\n",
      "50000/50000 [==============================] - 11s 218us/step - loss: 0.0674 - accuracy: 0.9774\n",
      "Epoch 17/100\n",
      "50000/50000 [==============================] - 11s 214us/step - loss: 0.0788 - accuracy: 0.9733\n",
      "Epoch 18/100\n",
      "50000/50000 [==============================] - 11s 217us/step - loss: 0.0718 - accuracy: 0.9760\n",
      "Epoch 19/100\n",
      "50000/50000 [==============================] - 11s 219us/step - loss: 0.0649 - accuracy: 0.9778\n",
      "Epoch 20/100\n",
      "50000/50000 [==============================] - 11s 219us/step - loss: 0.0517 - accuracy: 0.9826\n",
      "Epoch 21/100\n",
      "50000/50000 [==============================] - 11s 216us/step - loss: 0.0547 - accuracy: 0.9816\n",
      "Epoch 22/100\n",
      "50000/50000 [==============================] - 11s 216us/step - loss: 0.0581 - accuracy: 0.9809\n",
      "Epoch 23/100\n",
      "50000/50000 [==============================] - 11s 212us/step - loss: 0.0514 - accuracy: 0.9824\n",
      "Epoch 24/100\n",
      "50000/50000 [==============================] - 11s 216us/step - loss: 0.0472 - accuracy: 0.9839\n",
      "Epoch 25/100\n",
      "50000/50000 [==============================] - 11s 220us/step - loss: 0.0409 - accuracy: 0.9866\n",
      "Epoch 26/100\n",
      "50000/50000 [==============================] - 11s 217us/step - loss: 0.0517 - accuracy: 0.9829\n",
      "Epoch 27/100\n",
      "50000/50000 [==============================] - 11s 217us/step - loss: 0.0440 - accuracy: 0.9847\n",
      "Epoch 28/100\n",
      "50000/50000 [==============================] - 11s 217us/step - loss: 0.0365 - accuracy: 0.9881\n",
      "Epoch 29/100\n",
      "50000/50000 [==============================] - 11s 214us/step - loss: 0.0432 - accuracy: 0.9859\n",
      "Epoch 30/100\n",
      "50000/50000 [==============================] - 11s 215us/step - loss: 0.0471 - accuracy: 0.9845\n",
      "Epoch 31/100\n",
      "50000/50000 [==============================] - 11s 213us/step - loss: 0.0354 - accuracy: 0.9882\n",
      "Epoch 32/100\n",
      "50000/50000 [==============================] - 11s 211us/step - loss: 0.0297 - accuracy: 0.9901\n",
      "Epoch 33/100\n",
      "50000/50000 [==============================] - 11s 210us/step - loss: 0.0351 - accuracy: 0.9885\n",
      "Epoch 34/100\n",
      "50000/50000 [==============================] - 11s 211us/step - loss: 0.0474 - accuracy: 0.9850\n",
      "Epoch 35/100\n",
      "50000/50000 [==============================] - 11s 211us/step - loss: 0.0383 - accuracy: 0.9875\n",
      "Epoch 36/100\n",
      "50000/50000 [==============================] - 11s 211us/step - loss: 0.0282 - accuracy: 0.9905\n",
      "Epoch 37/100\n",
      "50000/50000 [==============================] - 11s 212us/step - loss: 0.0306 - accuracy: 0.9898\n",
      "Epoch 38/100\n",
      "50000/50000 [==============================] - 11s 211us/step - loss: 0.0357 - accuracy: 0.9886\n",
      "Epoch 39/100\n",
      "50000/50000 [==============================] - 11s 211us/step - loss: 0.0327 - accuracy: 0.9892\n",
      "Epoch 40/100\n",
      "50000/50000 [==============================] - 11s 211us/step - loss: 0.0285 - accuracy: 0.9909\n",
      "Epoch 41/100\n",
      "50000/50000 [==============================] - 11s 212us/step - loss: 0.0266 - accuracy: 0.9907\n",
      "Epoch 42/100\n",
      "50000/50000 [==============================] - 11s 211us/step - loss: 0.0293 - accuracy: 0.9908\n",
      "Epoch 43/100\n",
      "50000/50000 [==============================] - 11s 213us/step - loss: 0.0324 - accuracy: 0.9896\n",
      "Epoch 44/100\n",
      "50000/50000 [==============================] - 11s 211us/step - loss: 0.0230 - accuracy: 0.9927\n",
      "Epoch 45/100\n",
      "50000/50000 [==============================] - 11s 212us/step - loss: 0.0346 - accuracy: 0.9893\n",
      "Epoch 46/100\n",
      "50000/50000 [==============================] - 11s 211us/step - loss: 0.0271 - accuracy: 0.9912\n",
      "Epoch 47/100\n",
      "50000/50000 [==============================] - 11s 211us/step - loss: 0.0213 - accuracy: 0.9931\n",
      "Epoch 48/100\n",
      "50000/50000 [==============================] - 11s 211us/step - loss: 0.0231 - accuracy: 0.9928\n",
      "Epoch 49/100\n",
      "50000/50000 [==============================] - 11s 211us/step - loss: 0.0256 - accuracy: 0.9915\n",
      "Epoch 50/100\n",
      "50000/50000 [==============================] - 11s 212us/step - loss: 0.0254 - accuracy: 0.9917\n",
      "Epoch 51/100\n",
      "50000/50000 [==============================] - 11s 213us/step - loss: 0.0324 - accuracy: 0.9897\n",
      "Epoch 52/100\n",
      "50000/50000 [==============================] - 11s 213us/step - loss: 0.0251 - accuracy: 0.9917\n",
      "Epoch 53/100\n",
      "50000/50000 [==============================] - 11s 218us/step - loss: 0.0242 - accuracy: 0.9921\n",
      "Epoch 54/100\n",
      "50000/50000 [==============================] - 11s 220us/step - loss: 0.0169 - accuracy: 0.9945\n",
      "Epoch 55/100\n",
      "50000/50000 [==============================] - 11s 220us/step - loss: 0.0253 - accuracy: 0.9920\n",
      "Epoch 56/100\n",
      "50000/50000 [==============================] - 11s 222us/step - loss: 0.0221 - accuracy: 0.9927\n",
      "Epoch 57/100\n",
      "50000/50000 [==============================] - 11s 216us/step - loss: 0.0219 - accuracy: 0.9926\n",
      "Epoch 58/100\n",
      "50000/50000 [==============================] - 11s 225us/step - loss: 0.0233 - accuracy: 0.9926\n",
      "Epoch 59/100\n",
      "50000/50000 [==============================] - 11s 221us/step - loss: 0.0210 - accuracy: 0.9939\n",
      "Epoch 60/100\n",
      "50000/50000 [==============================] - 11s 220us/step - loss: 0.0228 - accuracy: 0.9930\n",
      "Epoch 61/100\n",
      "50000/50000 [==============================] - 11s 220us/step - loss: 0.0205 - accuracy: 0.9935\n",
      "Epoch 62/100\n",
      "50000/50000 [==============================] - 11s 221us/step - loss: 0.0198 - accuracy: 0.9937\n",
      "Epoch 63/100\n",
      "50000/50000 [==============================] - 11s 221us/step - loss: 0.0175 - accuracy: 0.9947\n",
      "Epoch 64/100\n",
      "50000/50000 [==============================] - 11s 222us/step - loss: 0.0227 - accuracy: 0.9932\n",
      "Epoch 65/100\n",
      "50000/50000 [==============================] - 11s 227us/step - loss: 0.0293 - accuracy: 0.9911\n",
      "Epoch 66/100\n",
      "50000/50000 [==============================] - 11s 223us/step - loss: 0.0159 - accuracy: 0.9948\n",
      "Epoch 67/100\n",
      "50000/50000 [==============================] - 11s 223us/step - loss: 0.0121 - accuracy: 0.9959\n",
      "Epoch 68/100\n",
      "50000/50000 [==============================] - 11s 223us/step - loss: 0.0171 - accuracy: 0.9944\n",
      "Epoch 69/100\n",
      "50000/50000 [==============================] - 11s 221us/step - loss: 0.0244 - accuracy: 0.9925\n",
      "Epoch 70/100\n",
      "50000/50000 [==============================] - 11s 221us/step - loss: 0.0179 - accuracy: 0.9943\n",
      "Epoch 71/100\n",
      "50000/50000 [==============================] - 11s 221us/step - loss: 0.0164 - accuracy: 0.9950\n",
      "Epoch 72/100\n",
      "50000/50000 [==============================] - 11s 223us/step - loss: 0.0195 - accuracy: 0.9938\n",
      "Epoch 73/100\n",
      "50000/50000 [==============================] - 11s 223us/step - loss: 0.0203 - accuracy: 0.9940\n",
      "Epoch 74/100\n",
      "50000/50000 [==============================] - 11s 223us/step - loss: 0.0186 - accuracy: 0.9942\n",
      "Epoch 75/100\n",
      "50000/50000 [==============================] - 11s 223us/step - loss: 0.0165 - accuracy: 0.9948\n",
      "Epoch 76/100\n"
     ]
    },
    {
     "name": "stdout",
     "output_type": "stream",
     "text": [
      "50000/50000 [==============================] - 11s 222us/step - loss: 0.0200 - accuracy: 0.9939\n",
      "Epoch 77/100\n",
      "50000/50000 [==============================] - 11s 223us/step - loss: 0.0116 - accuracy: 0.9961\n",
      "Epoch 78/100\n",
      "50000/50000 [==============================] - 11s 222us/step - loss: 0.0131 - accuracy: 0.9958\n",
      "Epoch 79/100\n",
      "50000/50000 [==============================] - 11s 225us/step - loss: 0.0193 - accuracy: 0.9938\n",
      "Epoch 80/100\n",
      "50000/50000 [==============================] - 12s 236us/step - loss: 0.0172 - accuracy: 0.9942\n",
      "Epoch 81/100\n",
      "50000/50000 [==============================] - 12s 234us/step - loss: 0.0162 - accuracy: 0.9952\n",
      "Epoch 82/100\n",
      "50000/50000 [==============================] - 12s 235us/step - loss: 0.0158 - accuracy: 0.9949\n",
      "Epoch 83/100\n",
      "50000/50000 [==============================] - 12s 236us/step - loss: 0.0101 - accuracy: 0.9965\n",
      "Epoch 84/100\n",
      "50000/50000 [==============================] - 11s 226us/step - loss: 0.0144 - accuracy: 0.9955\n",
      "Epoch 85/100\n",
      "50000/50000 [==============================] - 12s 231us/step - loss: 0.0232 - accuracy: 0.9934\n",
      "Epoch 86/100\n",
      "50000/50000 [==============================] - 12s 230us/step - loss: 0.0194 - accuracy: 0.9943\n",
      "Epoch 87/100\n",
      "50000/50000 [==============================] - 12s 234us/step - loss: 0.0155 - accuracy: 0.9952\n",
      "Epoch 88/100\n",
      "50000/50000 [==============================] - 12s 231us/step - loss: 0.0144 - accuracy: 0.9958\n",
      "Epoch 89/100\n",
      "50000/50000 [==============================] - 12s 237us/step - loss: 0.0119 - accuracy: 0.9961\n",
      "Epoch 90/100\n",
      "50000/50000 [==============================] - 12s 238us/step - loss: 0.0138 - accuracy: 0.9958\n",
      "Epoch 91/100\n",
      "50000/50000 [==============================] - 12s 231us/step - loss: 0.0166 - accuracy: 0.9951\n",
      "Epoch 92/100\n",
      "50000/50000 [==============================] - 12s 231us/step - loss: 0.0195 - accuracy: 0.9940\n",
      "Epoch 93/100\n",
      "50000/50000 [==============================] - 12s 233us/step - loss: 0.0140 - accuracy: 0.9954\n",
      "Epoch 94/100\n",
      "50000/50000 [==============================] - 11s 227us/step - loss: 0.0162 - accuracy: 0.9952\n",
      "Epoch 95/100\n",
      "50000/50000 [==============================] - 11s 223us/step - loss: 0.0142 - accuracy: 0.9953\n",
      "Epoch 96/100\n",
      "50000/50000 [==============================] - 11s 224us/step - loss: 0.0114 - accuracy: 0.9962\n",
      "Epoch 97/100\n",
      "50000/50000 [==============================] - 11s 226us/step - loss: 0.0150 - accuracy: 0.9955\n",
      "Epoch 98/100\n",
      "50000/50000 [==============================] - 11s 225us/step - loss: 0.0112 - accuracy: 0.9965\n",
      "Epoch 99/100\n",
      "50000/50000 [==============================] - 11s 228us/step - loss: 0.0106 - accuracy: 0.9967\n",
      "Epoch 100/100\n",
      "50000/50000 [==============================] - 11s 230us/step - loss: 0.0130 - accuracy: 0.9957\n"
     ]
    },
    {
     "data": {
      "text/plain": [
       "<keras.callbacks.callbacks.History at 0x7f08000ffd68>"
      ]
     },
     "execution_count": 12,
     "metadata": {},
     "output_type": "execute_result"
    }
   ],
   "source": [
    "#超過兩個就要選categorical_crossentrophy\n",
    "classifier.compile(optimizer = 'adam', loss = 'categorical_crossentropy', metrics = ['accuracy'])\n",
    "classifier.fit(x_train,y_train,batch_size=100,epochs=100)"
   ]
  },
  {
   "cell_type": "markdown",
   "metadata": {},
   "source": [
    "## 預測新圖片，輸入影像前處理要與訓練時相同\n",
    "#### ((X-mean)/(std+1e-7) ):這裡的mean跟std是訓練集的\n",
    "## 維度如下方示範"
   ]
  },
  {
   "cell_type": "code",
   "execution_count": 13,
   "metadata": {},
   "outputs": [
    {
     "data": {
      "text/plain": [
       "array([[2.4652177e-14, 0.0000000e+00, 1.1414134e-27, 9.9999881e-01,\n",
       "        1.2392326e-06, 7.5278073e-36, 2.0316849e-29, 2.1403093e-31,\n",
       "        8.9930348e-18, 0.0000000e+00]], dtype=float32)"
      ]
     },
     "execution_count": 13,
     "metadata": {},
     "output_type": "execute_result"
    }
   ],
   "source": [
    "input_example=(np.zeros(shape=(1,32,32,3))-mean_train)/(std_train+1e-7) \n",
    "classifier.predict(input_example)"
   ]
  },
  {
   "cell_type": "code",
   "execution_count": null,
   "metadata": {},
   "outputs": [],
   "source": []
  }
 ],
 "metadata": {
  "kernelspec": {
   "display_name": "Python 3",
   "language": "python",
   "name": "python3"
  },
  "language_info": {
   "codemirror_mode": {
    "name": "ipython",
    "version": 3
   },
   "file_extension": ".py",
   "mimetype": "text/x-python",
   "name": "python",
   "nbconvert_exporter": "python",
   "pygments_lexer": "ipython3",
   "version": "3.7.3"
  }
 },
 "nbformat": 4,
 "nbformat_minor": 2
}
