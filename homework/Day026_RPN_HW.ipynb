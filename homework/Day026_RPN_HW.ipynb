{
 "cells": [
  {
   "cell_type": "markdown",
   "metadata": {},
   "source": [
    "## 『本次練習內容』\n",
    "#### 學習搭建RPN層"
   ]
  },
  {
   "cell_type": "markdown",
   "metadata": {},
   "source": [
    "## 『本次練習目的』\n",
    "  #### 了解Object Detection演算法中是如何做到分類又回歸BBOX座標"
   ]
  },
  {
   "cell_type": "code",
   "execution_count": 1,
   "metadata": {},
   "outputs": [
    {
     "name": "stderr",
     "output_type": "stream",
     "text": [
      "Using TensorFlow backend.\n"
     ]
    }
   ],
   "source": [
    "from keras.layers import Flatten, Dense, Input, Conv2D, MaxPooling2D, Dropout\n",
    "from keras.layers import GlobalAveragePooling2D, GlobalMaxPooling2D, TimeDistributed"
   ]
  },
  {
   "cell_type": "code",
   "execution_count": 2,
   "metadata": {},
   "outputs": [],
   "source": [
    "import os\n",
    "os.environ[\"CUDA_VISIBLE_DEVICES\"] = \"0\""
   ]
  },
  {
   "cell_type": "code",
   "execution_count": 3,
   "metadata": {},
   "outputs": [],
   "source": [
    "input_shape_img = (1024, 1024, 3)\n",
    "img_input = Input(shape=input_shape_img)"
   ]
  },
  {
   "cell_type": "code",
   "execution_count": 4,
   "metadata": {},
   "outputs": [],
   "source": [
    "'''先過一般CNN層提取特徵'''\n",
    "def nn_base(img_input):\n",
    "    print(\"input :\", img_input.shape)\n",
    "    \n",
    "    # Block 1\n",
    "    x = Conv2D(64, (3, 3), activation='relu', padding='same', name='block1_conv1')(img_input)\n",
    "    x = Conv2D(64, (3, 3), activation='relu', padding='same', name='block1_conv2')(x)\n",
    "    # 縮水1/2 1024x1024 -> 512x512\n",
    "    x = MaxPooling2D((2, 2), strides=(2, 2), name='block1_pool')(x)\n",
    "    print(\"block1:\", x.shape)\n",
    "\n",
    "    # Block 2\n",
    "    x = Conv2D(128, (3, 3), activation='relu', padding='same', name='block2_conv1')(x)\n",
    "    x = Conv2D(128, (3, 3), activation='relu', padding='same', name='block2_conv2')(x)\n",
    "    # 縮水1/2 512x512 -> 256x256\n",
    "    x = MaxPooling2D((2, 2), strides=(2, 2), name='block2_pool')(x)\n",
    "    print(\"block2:\", x.shape)\n",
    "\n",
    "    # Block 3\n",
    "    x = Conv2D(256, (3, 3), activation='relu', padding='same', name='block3_conv1')(x)\n",
    "    x = Conv2D(256, (3, 3), activation='relu', padding='same', name='block3_conv2')(x)\n",
    "    x = Conv2D(256, (3, 3), activation='relu', padding='same', name='block3_conv3')(x)\n",
    "    # 縮水1/2 256x256 -> 128x128\n",
    "    x = MaxPooling2D((2, 2), strides=(2, 2), name='block3_pool')(x)\n",
    "    print(\"block3:\", x.shape)\n",
    "\n",
    "    # Block 4\n",
    "    x = Conv2D(512, (3, 3), activation='relu', padding='same', name='block4_conv1')(x)\n",
    "    x = Conv2D(512, (3, 3), activation='relu', padding='same', name='block4_conv2')(x)\n",
    "    x = Conv2D(512, (3, 3), activation='relu', padding='same', name='block4_conv3')(x)\n",
    "    # 縮水1/2 128x128 -> 64x64\n",
    "    x = MaxPooling2D((2, 2), strides=(2, 2), name='block4_pool')(x)\n",
    "    print(\"block4:\", x.shape)\n",
    "\n",
    "    # Block 5\n",
    "    x = Conv2D(512, (3, 3), activation='relu', padding='same', name='block5_conv1')(x)\n",
    "    x = Conv2D(512, (3, 3), activation='relu', padding='same', name='block5_conv2')(x)\n",
    "    x = Conv2D(512, (3, 3), activation='relu', padding='same', name='block5_conv3')(x)\n",
    "    print(\"return:\", x.shape)\n",
    "\n",
    "    # 最後返回的x是64x64x512的feature map。\n",
    "    return x"
   ]
  },
  {
   "cell_type": "code",
   "execution_count": 5,
   "metadata": {},
   "outputs": [],
   "source": [
    "'''過RPN'''\n",
    "def rpn(base_layers, num_anchors):\n",
    "\n",
    "    # nn_base()返回的x是64x64x512的feature map.\n",
    "    x = Conv2D(512, (3, 3), padding='same', activation='relu', kernel_initializer='normal', name='rpn_conv1')(base_layers)\n",
    "\n",
    "    # rpn分類和迴歸\n",
    "    #2k output channels\n",
    "    x_class = Conv2D(num_anchors * 2, (1, 1), activation='softmax',name='rpn_out_class')(x)\n",
    "    #4k output channels\n",
    "    x_reg   = Conv2D(num_anchors * 4, (1, 1), activation='linear', name='rpn_out_regress')(x)\n",
    "    print(\"class:\", x_class.shape)\n",
    "    print(\"regre:\", x_reg.shape)\n",
    "\n",
    "    return x_class, x_reg, base_layers"
   ]
  },
  {
   "cell_type": "code",
   "execution_count": 6,
   "metadata": {},
   "outputs": [
    {
     "name": "stdout",
     "output_type": "stream",
     "text": [
      "input : (None, 1024, 1024, 3)\n",
      "block1: (None, 512, 512, 64)\n",
      "block2: (None, 256, 256, 128)\n",
      "block3: (None, 128, 128, 256)\n",
      "block4: (None, 64, 64, 512)\n",
      "return: (None, 64, 64, 512)\n"
     ]
    }
   ],
   "source": [
    "base_layers = nn_base(img_input)"
   ]
  },
  {
   "cell_type": "code",
   "execution_count": 7,
   "metadata": {},
   "outputs": [
    {
     "name": "stdout",
     "output_type": "stream",
     "text": [
      "class: (None, 64, 64, 18)\n",
      "regre: (None, 64, 64, 36)\n"
     ]
    }
   ],
   "source": [
    "x_class, x_reg, base_layers = rpn(base_layers, 9)"
   ]
  },
  {
   "cell_type": "code",
   "execution_count": 8,
   "metadata": {},
   "outputs": [
    {
     "name": "stdout",
     "output_type": "stream",
     "text": [
      "Classification  Branch： (None, 64, 64, 18)\n",
      "BBOX Regression Branch： (None, 64, 64, 36)\n",
      "CNN Output            ： (None, 64, 64, 512)\n"
     ]
    }
   ],
   "source": [
    "print('Classification  Branch：',x_class.shape) #'''確認深度是否為18'''\n",
    "print('BBOX Regression Branch：',x_reg.shape) #'''確認深度是否為36'''\n",
    "print('CNN Output            ：',base_layers.shape)"
   ]
  },
  {
   "cell_type": "code",
   "execution_count": null,
   "metadata": {},
   "outputs": [],
   "source": []
  }
 ],
 "metadata": {
  "kernelspec": {
   "display_name": "Python 3",
   "language": "python",
   "name": "python3"
  },
  "language_info": {
   "codemirror_mode": {
    "name": "ipython",
    "version": 3
   },
   "file_extension": ".py",
   "mimetype": "text/x-python",
   "name": "python",
   "nbconvert_exporter": "python",
   "pygments_lexer": "ipython3",
   "version": "3.7.3"
  }
 },
 "nbformat": 4,
 "nbformat_minor": 2
}
